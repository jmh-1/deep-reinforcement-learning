{
 "cells": [
  {
   "cell_type": "code",
   "execution_count": 2,
   "id": "c41c179e-22cf-4792-8486-213114364705",
   "metadata": {},
   "outputs": [],
   "source": [
    "class SumTree():\n",
    "    def __init__(self, capacity):\n",
    "        self.capacity = capacity\n",
    "        self.array = []\n",
    "        \n",
    "    def insert()"
   ]
  },
  {
   "cell_type": "code",
   "execution_count": 16,
   "id": "4a92eded-06e9-48dc-8200-7822043f88d9",
   "metadata": {},
   "outputs": [
    {
     "data": {
      "text/plain": [
       "<attribute '__dict__' of 'TempClass' objects>"
      ]
     },
     "execution_count": 16,
     "metadata": {},
     "output_type": "execute_result"
    }
   ],
   "source": [
    "class TempClass:\n",
    "    pass\n",
    "TempClass.__dict__['__dict__']"
   ]
  },
  {
   "cell_type": "markdown",
   "id": "63531da7-6758-4c5e-97a3-852efe7f26d6",
   "metadata": {},
   "source": [
    "# x = TempClass()\n",
    "print(x)\n",
    "print(x.__dict__)"
   ]
  },
  {
   "cell_type": "code",
   "execution_count": null,
   "id": "1e9688fe-59a4-491c-949e-d1b6eaf8d0fe",
   "metadata": {},
   "outputs": [],
   "source": []
  }
 ],
 "metadata": {
  "kernelspec": {
   "display_name": "Python 3",
   "language": "python",
   "name": "python3"
  },
  "language_info": {
   "codemirror_mode": {
    "name": "ipython",
    "version": 3
   },
   "file_extension": ".py",
   "mimetype": "text/x-python",
   "name": "python",
   "nbconvert_exporter": "python",
   "pygments_lexer": "ipython3",
   "version": "3.9.6"
  }
 },
 "nbformat": 4,
 "nbformat_minor": 5
}
