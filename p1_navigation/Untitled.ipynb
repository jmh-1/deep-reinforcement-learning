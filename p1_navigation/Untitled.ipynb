{
 "cells": [
  {
   "cell_type": "code",
   "execution_count": 67,
   "id": "c41c179e-22cf-4792-8486-213114364705",
   "metadata": {},
   "outputs": [
    {
     "data": {
      "text/plain": [
       "array([0, 0, 0, 0], dtype=object)"
      ]
     },
     "execution_count": 67,
     "metadata": {},
     "output_type": "execute_result"
    }
   ],
   "source": [
    "import numpy as np\n",
    "from IPython.core.debugger import set_trace\n",
    "\n",
    "class SumTree():\n",
    "    # capacity should be power of two\n",
    "    def __init__(self, capacity):\n",
    "        assert (capacity % 2) == 0\n",
    "        self.capacity = capacity\n",
    "        self.tree = np.zeros(2 * capacity - 1)\n",
    "        self.data = np.zeros(capacity, dtype='object')\n",
    "        self.nextIdx = 0\n",
    "        \n",
    "    def insert(self, val, data):\n",
    "        self.data[self.nextIdx] = data\n",
    "        treeIdx = self.capacity - 1 + self.nextIdx\n",
    "        change = val - self.tree[treeIdx]\n",
    "        while treeIdx > 0:\n",
    "            self.tree[treeIdx] += change \n",
    "            treeIdx = (treeIdx - 1 )// 2\n",
    "        self.tree[treeIdx] += change\n",
    "            \n",
    "        self.nextIdx = (self.nextIdx + 1) % self.capacity\n",
    "    \n",
    "    def find_val_idx(self,val):\n",
    "        i = 0\n",
    "#         set_trace()\n",
    "        while True:\n",
    "            l = 2 * i + 1\n",
    "            r = 2 * i + 2\n",
    "            if val <= self.tree[l]:\n",
    "                i = l\n",
    "            else:\n",
    "                i = r\n",
    "                val -= self.tree[l]\n",
    "            if i >= self.capacity - 1:\n",
    "                break\n",
    "        return i - self.capacity + 1\n",
    "    \n",
    "    def retrieve_range(self,minimum, maximum):\n",
    "        return self.data[self.find_val_idx(minimum):self.find_val_idx(maximum)+1]\n",
    "\n",
    "tt = SumTree(4)\n",
    "tt.data"
   ]
  },
  {
   "cell_type": "code",
   "execution_count": 68,
   "id": "4a92eded-06e9-48dc-8200-7822043f88d9",
   "metadata": {},
   "outputs": [],
   "source": [
    "tt = SumTree(4)\n",
    "tt.insert(1, 'v')\n",
    "tt.insert(3, 'v')\n",
    "tt.insert(1, 'v')\n",
    "tt.insert(1, 'v')\n",
    "\n"
   ]
  },
  {
   "cell_type": "code",
   "execution_count": 69,
   "id": "1e9688fe-59a4-491c-949e-d1b6eaf8d0fe",
   "metadata": {},
   "outputs": [
    {
     "data": {
      "text/plain": [
       "array([6., 4., 2., 1., 3., 1., 1.])"
      ]
     },
     "execution_count": 69,
     "metadata": {},
     "output_type": "execute_result"
    }
   ],
   "source": [
    "tt.tree\n"
   ]
  },
  {
   "cell_type": "code",
   "execution_count": 75,
   "id": "3fcfffb4-6dd7-4573-889e-31f1046d68a5",
   "metadata": {},
   "outputs": [
    {
     "data": {
      "text/plain": [
       "array(['v', 'v'], dtype=object)"
      ]
     },
     "execution_count": 75,
     "metadata": {},
     "output_type": "execute_result"
    }
   ],
   "source": [
    "tt.retrieve_range(5,8)"
   ]
  },
  {
   "cell_type": "code",
   "execution_count": 72,
   "id": "317beb0d-ac97-46ff-82c2-80028981b10b",
   "metadata": {},
   "outputs": [
    {
     "data": {
      "text/plain": [
       "array(['v', 'v', 'v', 'v'], dtype=object)"
      ]
     },
     "execution_count": 72,
     "metadata": {},
     "output_type": "execute_result"
    }
   ],
   "source": [
    "tt.data"
   ]
  },
  {
   "cell_type": "code",
   "execution_count": null,
   "id": "44109a12-2f16-475a-993f-1c649e351ea3",
   "metadata": {},
   "outputs": [],
   "source": []
  }
 ],
 "metadata": {
  "kernelspec": {
   "display_name": "Python 3",
   "language": "python",
   "name": "python3"
  },
  "language_info": {
   "codemirror_mode": {
    "name": "ipython",
    "version": 3
   },
   "file_extension": ".py",
   "mimetype": "text/x-python",
   "name": "python",
   "nbconvert_exporter": "python",
   "pygments_lexer": "ipython3",
   "version": "3.9.6"
  }
 },
 "nbformat": 4,
 "nbformat_minor": 5
}
