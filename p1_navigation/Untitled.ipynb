{
 "cells": [
  {
   "cell_type": "code",
   "execution_count": 69,
   "id": "c41c179e-22cf-4792-8486-213114364705",
   "metadata": {},
   "outputs": [
    {
     "data": {
      "text/plain": [
       "array([0, 0, 0, 0], dtype=object)"
      ]
     },
     "execution_count": 69,
     "metadata": {},
     "output_type": "execute_result"
    }
   ],
   "source": [
    "import numpy as np\n",
    "\n",
    "class SumTree():\n",
    "    def __init__(self, capacity):\n",
    "        self.capacity = capacity\n",
    "        self.tree = np.zeros(2 * capacity - 1)\n",
    "        self.data = np.zeros(capacity, dtype='object')\n",
    "        self.nextIdx = 0\n",
    "        \n",
    "    def insert(self, val, data):\n",
    "        self.data[self.nextIdx] = data\n",
    "        treeIdx = self.capacity - 1 + self.nextIdx\n",
    "        change = val - self.tree[treeIdx]\n",
    "        while treeIdx > 0:\n",
    "            self.tree[treeIdx] += change \n",
    "            treeIdx = (treeIdx - 1 )// 2\n",
    "        self.tree[treeIdx] += change\n",
    "            \n",
    "        self.nextIdx = (self.nextIdx + 1) % self.capacity\n",
    "    \n",
    "    def find_val_idx(val):\n",
    "        i = 0\n",
    "        while i < 2 * self.capacity:\n",
    "            if val < self.tree[i]:\n",
    "                i = 2 * i + 1\n",
    "            else:\n",
    "                i = 2 * i + 2\n",
    "                val -= self.tree[i]\n",
    "        return i - capacity - 1\n",
    "    \n",
    "    def retrieve_range(minimum, maximum):\n",
    "        return data[self.find_val_idx(minimum):self.find_val_idx(maximum)]\n",
    "\n",
    "tt = SumTree(4)\n",
    "tt.data"
   ]
  },
  {
   "cell_type": "code",
   "execution_count": 74,
   "id": "4a92eded-06e9-48dc-8200-7822043f88d9",
   "metadata": {},
   "outputs": [],
   "source": [
    "tt.insert(1, 'a')"
   ]
  },
  {
   "cell_type": "code",
   "execution_count": 75,
   "id": "1e9688fe-59a4-491c-949e-d1b6eaf8d0fe",
   "metadata": {},
   "outputs": [
    {
     "data": {
      "text/plain": [
       "array([3., 2., 1., 1., 1., 1., 0.])"
      ]
     },
     "execution_count": 75,
     "metadata": {},
     "output_type": "execute_result"
    }
   ],
   "source": [
    "tt.tree\n"
   ]
  },
  {
   "cell_type": "code",
   "execution_count": 55,
   "id": "3fcfffb4-6dd7-4573-889e-31f1046d68a5",
   "metadata": {},
   "outputs": [
    {
     "data": {
      "text/plain": [
       "array(['a', 'a', 0, 0], dtype=object)"
      ]
     },
     "execution_count": 55,
     "metadata": {},
     "output_type": "execute_result"
    }
   ],
   "source": [
    "tt.data"
   ]
  },
  {
   "cell_type": "code",
   "execution_count": null,
   "id": "4ebf4bc6-7a11-40f8-8d12-68ab16acbfa5",
   "metadata": {},
   "outputs": [],
   "source": []
  }
 ],
 "metadata": {
  "kernelspec": {
   "display_name": "Python 3",
   "language": "python",
   "name": "python3"
  },
  "language_info": {
   "codemirror_mode": {
    "name": "ipython",
    "version": 3
   },
   "file_extension": ".py",
   "mimetype": "text/x-python",
   "name": "python",
   "nbconvert_exporter": "python",
   "pygments_lexer": "ipython3",
   "version": "3.9.6"
  }
 },
 "nbformat": 4,
 "nbformat_minor": 5
}
