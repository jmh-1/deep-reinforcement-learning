{
 "cells": [
  {
   "cell_type": "code",
   "execution_count": 139,
   "id": "c41c179e-22cf-4792-8486-213114364705",
   "metadata": {},
   "outputs": [
    {
     "data": {
      "text/plain": [
       "array([0, 0, 0, 0, 0, 0], dtype=object)"
      ]
     },
     "execution_count": 139,
     "metadata": {},
     "output_type": "execute_result"
    }
   ],
   "source": [
    "import numpy as np\n",
    "\n",
    "class SumTree():\n",
    "    def __init__(self, capacity):\n",
    "        assert (capacity % 2) == 0\n",
    "        self.capacity = capacity\n",
    "        self.tree = np.zeros(2 * capacity - 1)\n",
    "        self.data = np.zeros(capacity, dtype='object')\n",
    "        self.nextIdx = 0\n",
    "        \n",
    "    def insert(self, val, data):\n",
    "        self.data[self.nextIdx] = data\n",
    "        treeIdx = self.capacity - 1 + self.nextIdx\n",
    "        change = val - self.tree[treeIdx]\n",
    "        while treeIdx > 0:\n",
    "            self.tree[treeIdx] += change \n",
    "            treeIdx = (treeIdx - 1 )// 2\n",
    "        self.tree[treeIdx] += change\n",
    "            \n",
    "        self.nextIdx = (self.nextIdx + 1) % self.capacity\n",
    "    \n",
    "    def find_val_idx(self,val):\n",
    "        i = 0\n",
    "        while i < self.capacity:\n",
    "            if val < self.tree[i]:\n",
    "                i = 2 * i + 1\n",
    "            else:\n",
    "                i = 2 * i + 2\n",
    "                val -= self.tree[i]\n",
    "        return i - self.capacity - 1\n",
    "    \n",
    "    def retrieve_range(self,minimum, maximum):\n",
    "        return self.data[self.find_val_idx(minimum):self.find_val_idx(maximum)]\n",
    "\n",
    "tt = SumTree(6)\n",
    "tt.data"
   ]
  },
  {
   "cell_type": "code",
   "execution_count": 140,
   "id": "4a92eded-06e9-48dc-8200-7822043f88d9",
   "metadata": {},
   "outputs": [],
   "source": [
    "tt = SumTree(6)\n",
    "tt.insert(1, 'v')\n",
    "tt.insert(2, 'v')\n",
    "tt.insert(3, 'v')\n",
    "tt.insert(4, 'v')\n",
    "tt.insert(5, 'v')\n",
    "\n"
   ]
  },
  {
   "cell_type": "code",
   "execution_count": 141,
   "id": "1e9688fe-59a4-491c-949e-d1b6eaf8d0fe",
   "metadata": {},
   "outputs": [
    {
     "data": {
      "text/plain": [
       "array([15., 12.,  3.,  7.,  5.,  1.,  2.,  3.,  4.,  5.,  0.])"
      ]
     },
     "execution_count": 141,
     "metadata": {},
     "output_type": "execute_result"
    }
   ],
   "source": [
    "tt.tree\n"
   ]
  },
  {
   "cell_type": "code",
   "execution_count": 142,
   "id": "3fcfffb4-6dd7-4573-889e-31f1046d68a5",
   "metadata": {},
   "outputs": [
    {
     "data": {
      "text/plain": [
       "array(['v', 'v', 'v', 'v', 'v', 0], dtype=object)"
      ]
     },
     "execution_count": 142,
     "metadata": {},
     "output_type": "execute_result"
    }
   ],
   "source": [
    "tt.data"
   ]
  },
  {
   "cell_type": "code",
   "execution_count": 144,
   "id": "4ebf4bc6-7a11-40f8-8d12-68ab16acbfa5",
   "metadata": {},
   "outputs": [
    {
     "data": {
      "text/plain": [
       "array([], dtype=object)"
      ]
     },
     "execution_count": 144,
     "metadata": {},
     "output_type": "execute_result"
    }
   ],
   "source": [
    "\n",
    "tt.retrieve_range(0,5)"
   ]
  },
  {
   "cell_type": "code",
   "execution_count": 145,
   "id": "317beb0d-ac97-46ff-82c2-80028981b10b",
   "metadata": {},
   "outputs": [
    {
     "data": {
      "text/plain": [
       "0"
      ]
     },
     "execution_count": 145,
     "metadata": {},
     "output_type": "execute_result"
    }
   ],
   "source": [
    "tt.find_val_idx(6)"
   ]
  },
  {
   "cell_type": "code",
   "execution_count": null,
   "id": "44109a12-2f16-475a-993f-1c649e351ea3",
   "metadata": {},
   "outputs": [],
   "source": []
  }
 ],
 "metadata": {
  "kernelspec": {
   "display_name": "Python 3",
   "language": "python",
   "name": "python3"
  },
  "language_info": {
   "codemirror_mode": {
    "name": "ipython",
    "version": 3
   },
   "file_extension": ".py",
   "mimetype": "text/x-python",
   "name": "python",
   "nbconvert_exporter": "python",
   "pygments_lexer": "ipython3",
   "version": "3.9.6"
  }
 },
 "nbformat": 4,
 "nbformat_minor": 5
}
