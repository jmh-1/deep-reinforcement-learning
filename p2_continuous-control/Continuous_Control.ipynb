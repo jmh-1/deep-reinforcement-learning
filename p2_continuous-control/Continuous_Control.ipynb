{
 "cells": [
  {
   "cell_type": "markdown",
   "metadata": {},
   "source": [
    "# Continuous Control\n",
    "\n",
    "---\n",
    "\n",
    "In this notebook, you will learn how to use the Unity ML-Agents environment for the second project of the [Deep Reinforcement Learning Nanodegree](https://www.udacity.com/course/deep-reinforcement-learning-nanodegree--nd893) program.\n",
    "\n",
    "### 1. Start the Environment\n",
    "\n",
    "We begin by importing the necessary packages.  If the code cell below returns an error, please revisit the project instructions to double-check that you have installed [Unity ML-Agents](https://github.com/Unity-Technologies/ml-agents/blob/master/docs/Installation.md) and [NumPy](http://www.numpy.org/)."
   ]
  },
  {
   "cell_type": "code",
   "execution_count": 1,
   "metadata": {},
   "outputs": [],
   "source": [
    "# !pip -q install ./python"
   ]
  },
  {
   "cell_type": "code",
   "execution_count": 2,
   "metadata": {},
   "outputs": [],
   "source": [
    "from unityagents import UnityEnvironment\n",
    "import numpy as np\n",
    "\n",
    "%load_ext autoreload\n",
    "%autoreload 2"
   ]
  },
  {
   "cell_type": "markdown",
   "metadata": {},
   "source": [
    "Next, we will start the environment!  **_Before running the code cell below_**, change the `file_name` parameter to match the location of the Unity environment that you downloaded.\n",
    "\n",
    "- **Mac**: `\"path/to/Reacher.app\"`\n",
    "- **Windows** (x86): `\"path/to/Reacher_Windows_x86/Reacher.exe\"`\n",
    "- **Windows** (x86_64): `\"path/to/Reacher_Windows_x86_64/Reacher.exe\"`\n",
    "- **Linux** (x86): `\"path/to/Reacher_Linux/Reacher.x86\"`\n",
    "- **Linux** (x86_64): `\"path/to/Reacher_Linux/Reacher.x86_64\"`\n",
    "- **Linux** (x86, headless): `\"path/to/Reacher_Linux_NoVis/Reacher.x86\"`\n",
    "- **Linux** (x86_64, headless): `\"path/to/Reacher_Linux_NoVis/Reacher.x86_64\"`\n",
    "\n",
    "For instance, if you are using a Mac, then you downloaded `Reacher.app`.  If this file is in the same folder as the notebook, then the line below should appear as follows:\n",
    "```\n",
    "env = UnityEnvironment(file_name=\"Reacher.app\")\n",
    "```"
   ]
  },
  {
   "cell_type": "code",
   "execution_count": 3,
   "metadata": {},
   "outputs": [],
   "source": [
    "# env = UnityEnvironment(file_name='/data/Reacher_One_Linux_NoVis/Reacher_One_Linux_NoVis.x86_64')"
   ]
  },
  {
   "cell_type": "code",
   "execution_count": 4,
   "metadata": {},
   "outputs": [
    {
     "name": "stderr",
     "output_type": "stream",
     "text": [
      "INFO:unityagents:\n",
      "'Academy' started successfully!\n",
      "Unity Academy name: Academy\n",
      "        Number of Brains: 1\n",
      "        Number of External Brains : 1\n",
      "        Lesson number : 0\n",
      "        Reset Parameters :\n",
      "\t\tgoal_size -> 5.0\n",
      "\t\tgoal_speed -> 1.0\n",
      "Unity brain name: ReacherBrain\n",
      "        Number of Visual Observations (per agent): 0\n",
      "        Vector Observation space type: continuous\n",
      "        Vector Observation space size (per agent): 33\n",
      "        Number of stacked Vector Observation: 1\n",
      "        Vector Action space type: continuous\n",
      "        Vector Action space size (per agent): 4\n",
      "        Vector Action descriptions: , , , \n"
     ]
    }
   ],
   "source": [
    "env = UnityEnvironment(file_name='Reacher_Linux_NoVis/Reacher.x86_64')"
   ]
  },
  {
   "cell_type": "markdown",
   "metadata": {},
   "source": [
    " Environments contain **_brains_** which are responsible for deciding the actions of their associated agents. Here we check for the first brain available, and set it as the default brain we will be controlling from Python."
   ]
  },
  {
   "cell_type": "code",
   "execution_count": 5,
   "metadata": {},
   "outputs": [],
   "source": [
    "# get the default brain\n",
    "brain_name = env.brain_names[0]\n",
    "brain = env.brains[brain_name]"
   ]
  },
  {
   "cell_type": "markdown",
   "metadata": {},
   "source": [
    "### 2. Examine the State and Action Spaces\n",
    "\n",
    "In this environment, a double-jointed arm can move to target locations. A reward of `+0.1` is provided for each step that the agent's hand is in the goal location. Thus, the goal of your agent is to maintain its position at the target location for as many time steps as possible.\n",
    "\n",
    "The observation space consists of `33` variables corresponding to position, rotation, velocity, and angular velocities of the arm.  Each action is a vector with four numbers, corresponding to torque applicable to two joints.  Every entry in the action vector must be a number between `-1` and `1`.\n",
    "\n",
    "Run the code cell below to print some information about the environment."
   ]
  },
  {
   "cell_type": "code",
   "execution_count": 6,
   "metadata": {},
   "outputs": [
    {
     "name": "stdout",
     "output_type": "stream",
     "text": [
      "Number of agents: 1\n",
      "Size of each action: 4\n",
      "There are 1 agents. Each observes a state with length: 33\n",
      "The state for the first agent looks like: [ 0.00000000e+00 -4.00000000e+00  0.00000000e+00  1.00000000e+00\n",
      " -0.00000000e+00 -0.00000000e+00 -4.37113883e-08  0.00000000e+00\n",
      "  0.00000000e+00  0.00000000e+00  0.00000000e+00  0.00000000e+00\n",
      "  0.00000000e+00  0.00000000e+00 -1.00000000e+01  0.00000000e+00\n",
      "  1.00000000e+00 -0.00000000e+00 -0.00000000e+00 -4.37113883e-08\n",
      "  0.00000000e+00  0.00000000e+00  0.00000000e+00  0.00000000e+00\n",
      "  0.00000000e+00  0.00000000e+00  5.75471878e+00 -1.00000000e+00\n",
      "  5.55726671e+00  0.00000000e+00  1.00000000e+00  0.00000000e+00\n",
      " -1.68164849e-01]\n"
     ]
    }
   ],
   "source": [
    "# reset the environment\n",
    "env_info = env.reset(train_mode=True)[brain_name]\n",
    "\n",
    "# number of agents\n",
    "num_agents = len(env_info.agents)\n",
    "print('Number of agents:', num_agents)\n",
    "\n",
    "# size of each action\n",
    "action_size = brain.vector_action_space_size\n",
    "print('Size of each action:', action_size)\n",
    "\n",
    "# examine the state space \n",
    "states = env_info.vector_observations\n",
    "state_size = states.shape[1]\n",
    "print('There are {} agents. Each observes a state with length: {}'.format(states.shape[0], state_size))\n",
    "print('The state for the first agent looks like:', states[0])"
   ]
  },
  {
   "cell_type": "code",
   "execution_count": 7,
   "metadata": {},
   "outputs": [
    {
     "data": {
      "text/plain": [
       "1"
      ]
     },
     "execution_count": 7,
     "metadata": {},
     "output_type": "execute_result"
    }
   ],
   "source": [
    "num_agents"
   ]
  },
  {
   "cell_type": "markdown",
   "metadata": {},
   "source": [
    "### 3. Take Random Actions in the Environment\n",
    "\n",
    "In the next code cell, you will learn how to use the Python API to control the agent and receive feedback from the environment.\n",
    "\n",
    "Once this cell is executed, you will watch the agent's performance, if it selects an action at random with each time step.  A window should pop up that allows you to observe the agent, as it moves through the environment.  \n",
    "\n",
    "Of course, as part of the project, you'll have to change the code so that the agent is able to use its experience to gradually choose better actions when interacting with the environment!"
   ]
  },
  {
   "cell_type": "code",
   "execution_count": 8,
   "metadata": {},
   "outputs": [],
   "source": [
    "# env_info = env.reset(train_mode=False)[brain_name]     # reset the environment    \n",
    "# states = env_info.vector_observations                  # get the current state (for each agent)\n",
    "# scores = np.zeros(num_agents)                          # initialize the score (for each agent)\n",
    "# while True:\n",
    "#     actions = np.random.randn(num_agents, action_size) # select an action (for each agent)\n",
    "#     actions = np.clip(actions, -1, 1)                  # all actions between -1 and 1\n",
    "#     env_info = env.step(actions)[brain_name]           # send all actions to tne environment\n",
    "#     next_states = env_info.vector_observations         # get next state (for each agent)\n",
    "#     rewards = env_info.rewards                         # get reward (for each agent)\n",
    "#     dones = env_info.local_done                        # see if episode finished\n",
    "#     scores += env_info.rewards                         # update the score (for each agent)\n",
    "#     states = next_states                               # roll over states to next time step\n",
    "#     if np.any(dones):                                  # exit loop if episode finished\n",
    "#         break\n",
    "# print('Total score (averaged over agents) this episode: {}'.format(np.mean(scores)))"
   ]
  },
  {
   "cell_type": "code",
   "execution_count": 9,
   "metadata": {},
   "outputs": [],
   "source": [
    "# import ddpg_agent\n",
    "# env_info = env.reset(train_mode=True)[brain_name]     # reset the environment    False\n",
    "# state = env_info.vector_observations[0]                  # get the current state (for each agent)\n",
    "# scores = np.zeros(num_agents)                          # initialize the score (for each agent)\n",
    "# # for t in range(\n",
    "# total_steps = 0\n",
    "# while True:\n",
    "#     total_steps += 1\n",
    "#     action = agent.act(state, eps)\n",
    "#     env_start = timeit.default_timer()\n",
    "#     env_info = env.step(action)[brain_name]        # send the action to the environment\n",
    "#     total_env_time += timeit.default_timer() - env_start\n",
    "#     next_state = env_info.vector_observations[0]   # get the next state\n",
    "#     reward = env_info.rewards[0]                   # get the reward\n",
    "#     done = env_info.local_done[0]                  # see if episode has finished\n",
    "#     agent.step(state, action, reward, next_state, done)\n",
    "#     state = next_state\n",
    "#     score += reward\n",
    "#     if done:\n",
    "#         break \n",
    "# print('Total score (averaged over agents) this episode: {}'.format(np.mean(scores)))"
   ]
  },
  {
   "cell_type": "code",
   "execution_count": 10,
   "metadata": {},
   "outputs": [
    {
     "data": {
      "text/plain": [
       "1"
      ]
     },
     "execution_count": 10,
     "metadata": {},
     "output_type": "execute_result"
    }
   ],
   "source": [
    "import torch\n",
    "tt = torch.tensor([1,2])\n",
    "tt.dim()\n",
    "tt.unsqueeze(0)\n",
    "tt.dim()"
   ]
  },
  {
   "cell_type": "code",
   "execution_count": null,
   "metadata": {},
   "outputs": [
    {
     "name": "stderr",
     "output_type": "stream",
     "text": [
      "/home/jmh/anaconda3/envs/drlnd/lib/python3.6/site-packages/torch/nn/functional.py:1340: UserWarning: nn.functional.tanh is deprecated. Use torch.tanh instead.\n",
      "  warnings.warn(\"nn.functional.tanh is deprecated. Use torch.tanh instead.\")\n"
     ]
    },
    {
     "name": "stdout",
     "output_type": "stream",
     "text": [
      "543\n",
      "Episode 1\tAverage Score: 0.00\tScore: 0.00\tSteps: 1001.00854\n",
      "Episode 2\tAverage Score: 0.57\tScore: 1.15\tSteps: 1001.00929\n",
      "Episode 3\tAverage Score: 0.62\tScore: 0.71\tSteps: 1001.00843\n",
      "Episode 4\tAverage Score: 0.68\tScore: 0.87\tSteps: 1001.001001\n",
      "Episode 5\tAverage Score: 0.55\tScore: 0.00\tSteps: 1001.001001\n",
      "Episode 6\tAverage Score: 0.54\tScore: 0.50\tSteps: 1001.001001\n",
      "Episode 7\tAverage Score: 0.46\tScore: 0.00\tSteps: 1001.001001\n",
      "Episode 8\tAverage Score: 0.40\tScore: 0.00\tSteps: 1001.001001\n",
      "Episode 9\tAverage Score: 0.39\tScore: 0.24\tSteps: 1001.001001\n",
      "Episode 10\tAverage Score: 0.35\tScore: 0.00\tSteps: 1001.00999\n",
      "Episode 11\tAverage Score: 0.40\tScore: 0.90\tSteps: 1001.00995\n",
      "Episode 12\tAverage Score: 0.36\tScore: 0.00\tSteps: 1001.001000\n",
      "Episode 13\tAverage Score: 0.34\tScore: 0.00\tSteps: 1001.001001\n",
      "Episode 14\tAverage Score: 0.32\tScore: 0.18\tSteps: 1001.00999\n",
      "Episode 15\tAverage Score: 0.30\tScore: 0.00\tSteps: 1001.001001\n",
      "Episode 16\tAverage Score: 0.44\tScore: 2.46\tSteps: 1001.001000\n",
      "Episode 17\tAverage Score: 0.44\tScore: 0.47\tSteps: 1001.001001\n",
      "Episode 18\tAverage Score: 0.50\tScore: 1.52\tSteps: 1001.001001\n",
      "Episode 19\tAverage Score: 0.54\tScore: 1.24\tSteps: 1001.001001\n",
      "Episode 20\tAverage Score: 0.57\tScore: 1.14\tSteps: 1001.00998\n",
      "Episode 21\tAverage Score: 0.60\tScore: 1.32\tSteps: 1001.00997\n",
      "Episode 22\tAverage Score: 0.67\tScore: 2.07\tSteps: 1001.001001\n",
      "Episode 23\tAverage Score: 0.73\tScore: 2.00\tSteps: 1001.00998\n",
      "Episode 24\tAverage Score: 0.76\tScore: 1.41\tSteps: 1001.00992\n",
      "Episode 25\tAverage Score: 0.75\tScore: 0.61\tSteps: 1001.001001\n",
      "Episode 26\tAverage Score: 0.81\tScore: 2.40\tSteps: 1001.00982\n",
      "Episode 27\tAverage Score: 0.83\tScore: 1.17\tSteps: 1001.00996\n",
      "Episode 28\tAverage Score: 0.84\tScore: 1.30\tSteps: 1001.00977\n",
      "Episode 29\tAverage Score: 0.82\tScore: 0.17\tSteps: 1001.00990\n",
      "Episode 30\tAverage Score: 0.81\tScore: 0.62\tSteps: 1001.00979\n",
      "Episode 31\tAverage Score: 0.81\tScore: 0.77\tSteps: 1001.00995\n",
      "Episode 32\tAverage Score: 0.81\tScore: 0.86\tSteps: 1001.00995\n",
      "Episode 33\tAverage Score: 0.83\tScore: 1.25\tSteps: 1001.00964\n",
      "Episode 34\tAverage Score: 0.85\tScore: 1.52\tSteps: 1001.00982\n",
      "Episode 35\tAverage Score: 0.85\tScore: 0.77\tSteps: 1001.00967\n",
      "Episode 36\tAverage Score: 0.86\tScore: 1.29\tSteps: 1001.00986\n",
      "Episode 37\tAverage Score: 0.84\tScore: 0.14\tSteps: 1001.00966\n",
      "Episode 38\tAverage Score: 0.82\tScore: 0.20\tSteps: 1001.00968\n",
      "Episode 39\tAverage Score: 0.81\tScore: 0.49\tSteps: 1001.00955\n",
      "Episode 40\tAverage Score: 0.81\tScore: 0.68\tSteps: 1001.00966\n",
      "Episode 41\tAverage Score: 0.83\tScore: 1.53\tSteps: 1001.00970\n",
      "Episode 42\tAverage Score: 0.83\tScore: 1.08\tSteps: 1001.00986\n",
      "Episode 43\tAverage Score: 0.82\tScore: 0.33\tSteps: 1001.00987\n",
      "Episode 44\tAverage Score: 0.81\tScore: 0.39\tSteps: 1001.00991\n",
      "Episode 45\tAverage Score: 0.83\tScore: 1.69\tSteps: 1001.00945\n",
      "Episode 46\tAverage Score: 0.84\tScore: 1.32\tSteps: 1001.00975\n",
      "Episode 47\tAverage Score: 0.86\tScore: 1.77\tSteps: 1001.00932\n",
      "Episode 48\tAverage Score: 0.87\tScore: 1.24\tSteps: 1001.00946\n",
      "Episode 49\tAverage Score: 0.87\tScore: 0.79\tSteps: 1001.00933\n",
      "Episode 50\tAverage Score: 0.87\tScore: 0.77\tSteps: 1001.00949\n",
      "Episode 51\tAverage Score: 0.85\tScore: 0.14\tSteps: 1001.00927\n",
      "Episode 52\tAverage Score: 0.86\tScore: 1.15\tSteps: 1001.00985\n",
      "Episode 53\tAverage Score: 0.87\tScore: 1.47\tSteps: 1001.00970\n",
      "Episode 54\tAverage Score: 0.87\tScore: 1.06\tSteps: 1001.00975\n",
      "Episode 55\tAverage Score: 0.87\tScore: 0.90\tSteps: 1001.00979\n",
      "Episode 56\tAverage Score: 0.88\tScore: 1.37\tSteps: 1001.00990\n",
      "Episode 57\tAverage Score: 0.88\tScore: 0.55\tSteps: 1001.00988\n",
      "Episode 58\tAverage Score: 0.87\tScore: 0.37\tSteps: 1001.00975\n",
      "Episode 59\tAverage Score: 0.88\tScore: 1.54\tSteps: 1001.00983\n",
      "Episode 60\tAverage Score: 0.88\tScore: 0.81\tSteps: 1001.00991\n",
      "Episode 61\tAverage Score: 0.87\tScore: 0.61\tSteps: 1001.001001\n",
      "Episode 62\tAverage Score: 0.88\tScore: 1.41\tSteps: 1001.00998\n",
      "Episode 63\tAverage Score: 0.89\tScore: 1.08\tSteps: 1001.00990\n",
      "Episode 64\tAverage Score: 0.88\tScore: 0.85\tSteps: 1001.00985\n",
      "Episode 65\tAverage Score: 0.88\tScore: 0.32\tSteps: 1001.00989\n",
      "Episode 66\tAverage Score: 0.88\tScore: 1.14\tSteps: 1001.00972\n",
      "Episode 67\tAverage Score: 0.88\tScore: 0.70\tSteps: 1001.00984\n",
      "Episode 68\tAverage Score: 0.88\tScore: 0.99\tSteps: 1001.00974\n",
      "Episode 69\tAverage Score: 0.90\tScore: 2.32\tSteps: 1001.00976\n",
      "Episode 70\tAverage Score: 0.92\tScore: 2.10\tSteps: 1001.00954\n",
      "Episode 71\tAverage Score: 0.92\tScore: 1.07\tSteps: 1001.00968\n",
      "Episode 72\tAverage Score: 0.91\tScore: 0.30\tSteps: 1001.00948\n",
      "Episode 73\tAverage Score: 0.92\tScore: 1.69\tSteps: 1001.00956\n",
      "Episode 74\tAverage Score: 0.92\tScore: 1.06\tSteps: 1001.00929\n",
      "Episode 75\tAverage Score: 0.92\tScore: 0.87\tSteps: 1001.00961\n",
      "Episode 76\tAverage Score: 0.92\tScore: 1.08\tSteps: 1001.00987\n",
      "Episode 77\tAverage Score: 0.92\tScore: 0.64\tSteps: 1001.00963\n",
      "Episode 78\tAverage Score: 0.92\tScore: 0.86\tSteps: 1001.00986\n",
      "Episode 79\tAverage Score: 0.93\tScore: 1.60\tSteps: 1001.00974\n",
      "Episode 80\tAverage Score: 0.94\tScore: 1.63\tSteps: 1001.00998\n",
      "Episode 81\tAverage Score: 0.94\tScore: 1.06\tSteps: 1001.00958\n",
      "Episode 82\tAverage Score: 0.94\tScore: 0.79\tSteps: 1001.00964\n",
      "Episode 83\tAverage Score: 0.95\tScore: 1.82\tSteps: 1001.00955\n",
      "Episode 84\tAverage Score: 0.95\tScore: 0.91\tSteps: 1001.00930\n",
      "Episode 85\tAverage Score: 0.94\tScore: 0.61\tSteps: 1001.00924\n",
      "Episode 86\tAverage Score: 0.94\tScore: 0.80\tSteps: 1001.00916\n",
      "Episode 87\tAverage Score: 0.95\tScore: 1.35\tSteps: 1001.00910\n",
      "Episode 88\tAverage Score: 0.96\tScore: 2.06\tSteps: 1001.00963\n",
      "Episode 89\tAverage Score: 0.95\tScore: 0.12\tSteps: 1001.00894\n",
      "Episode 90\tAverage Score: 0.94\tScore: 0.46\tSteps: 1001.00808\n",
      "Episode 91\tAverage Score: 0.93\tScore: 0.00\tSteps: 1001.00923\n",
      "Episode 92\tAverage Score: 0.94\tScore: 1.27\tSteps: 1001.00908\n",
      "Episode 93\tAverage Score: 0.93\tScore: 0.21\tSteps: 1001.00935\n",
      "Episode 94\tAverage Score: 0.93\tScore: 1.20\tSteps: 1001.00908\n",
      "Episode 95\tAverage Score: 0.94\tScore: 1.42\tSteps: 1001.00942\n",
      "Episode 96\tAverage Score: 0.93\tScore: 0.48\tSteps: 1001.00957\n",
      "Episode 97\tAverage Score: 0.93\tScore: 0.79\tSteps: 1001.00965\n",
      "Episode 98\tAverage Score: 0.92\tScore: 0.00\tSteps: 1001.00923\n",
      "Episode 99\tAverage Score: 0.92\tScore: 0.83\tSteps: 1001.00940\n",
      "Episode 100\tAverage Score: 0.92\tScore: 0.88\tSteps: 1001.00\n",
      "955\n",
      "Episode 101\tAverage Score: 0.93\tScore: 0.82\tSteps: 1001.00957\n",
      "Episode 102\tAverage Score: 0.93\tScore: 1.47\tSteps: 1001.00920\n",
      "Episode 103\tAverage Score: 0.94\tScore: 1.35\tSteps: 1001.00965\n",
      "Episode 104\tAverage Score: 0.94\tScore: 1.43\tSteps: 1001.00949\n",
      "Episode 105\tAverage Score: 0.95\tScore: 0.32\tSteps: 1001.00975\n",
      "Episode 106\tAverage Score: 0.95\tScore: 1.12\tSteps: 1001.00988\n",
      "Episode 107\tAverage Score: 0.97\tScore: 2.02\tSteps: 1001.00941\n",
      "Episode 108\tAverage Score: 0.98\tScore: 0.42\tSteps: 1001.00964\n",
      "Episode 109\tAverage Score: 0.99\tScore: 1.11\tSteps: 1001.00954\n",
      "Episode 110\tAverage Score: 1.00\tScore: 1.46\tSteps: 1001.00983\n",
      "Episode 111\tAverage Score: 1.00\tScore: 0.94\tSteps: 1001.00990\n",
      "Episode 112\tAverage Score: 1.02\tScore: 2.16\tSteps: 1001.00990\n",
      "Episode 113\tAverage Score: 1.03\tScore: 0.78\tSteps: 1001.00999\n",
      "Episode 114\tAverage Score: 1.04\tScore: 1.29\tSteps: 1001.00980\n",
      "Episode 115\tAverage Score: 1.05\tScore: 0.45\tSteps: 1001.00991\n",
      "Episode 116\tAverage Score: 1.03\tScore: 1.06\tSteps: 1001.00983\n",
      "Episode 117\tAverage Score: 1.05\tScore: 2.50\tSteps: 1001.00992\n",
      "Episode 118\tAverage Score: 1.05\tScore: 1.11\tSteps: 1001.00991\n",
      "Episode 119\tAverage Score: 1.04\tScore: 0.52\tSteps: 1001.00975\n",
      "Episode 120\tAverage Score: 1.03\tScore: 0.39\tSteps: 1001.00995\n",
      "Episode 121\tAverage Score: 1.05\tScore: 3.12\tSteps: 1001.00998\n",
      "Episode 122\tAverage Score: 1.04\tScore: 0.76\tSteps: 1001.00989\n",
      "Episode 123\tAverage Score: 1.03\tScore: 1.11\tSteps: 1001.00978\n",
      "Episode 124\tAverage Score: 1.03\tScore: 0.93\tSteps: 1001.00978\n",
      "Episode 125\tAverage Score: 1.03\tScore: 0.92\tSteps: 1001.00990\n",
      "Episode 126\tAverage Score: 1.01\tScore: 0.94\tSteps: 1001.00979\n",
      "Episode 127\tAverage Score: 1.01\tScore: 0.89\tSteps: 1001.001001\n",
      "Episode 128\tAverage Score: 1.00\tScore: 0.09\tSteps: 1001.00973\n",
      "Episode 129\tAverage Score: 1.01\tScore: 1.47\tSteps: 1001.00987\n",
      "Episode 130\tAverage Score: 1.03\tScore: 1.98\tSteps: 1001.00990\n",
      "Episode 131\tAverage Score: 1.04\tScore: 2.47\tSteps: 1001.00967\n",
      "Episode 132\tAverage Score: 1.05\tScore: 1.16\tSteps: 1001.00993\n",
      "Episode 133\tAverage Score: 1.06\tScore: 2.90\tSteps: 1001.00988\n",
      "Episode 134\tAverage Score: 1.07\tScore: 2.37\tSteps: 1001.00982\n",
      "Episode 135\tAverage Score: 1.10\tScore: 3.99\tSteps: 1001.00995\n",
      "Episode 136\tAverage Score: 1.10\tScore: 1.23\tSteps: 1001.00997\n",
      "Episode 137\tAverage Score: 1.13\tScore: 2.66\tSteps: 1001.00992\n",
      "Episode 138\tAverage Score: 1.15\tScore: 2.25\tSteps: 1001.00998\n",
      "Episode 139\tAverage Score: 1.15\tScore: 1.09\tSteps: 1001.001001\n",
      "Episode 140\tAverage Score: 1.15\tScore: 0.56\tSteps: 1001.00998\n",
      "Episode 141\tAverage Score: 1.14\tScore: 0.68\tSteps: 1001.00965\n",
      "Episode 142\tAverage Score: 1.15\tScore: 1.64\tSteps: 1001.001001\n",
      "Episode 143\tAverage Score: 1.15\tScore: 0.31\tSteps: 1001.00990\n",
      "Episode 144\tAverage Score: 1.16\tScore: 0.99\tSteps: 1001.00985\n",
      "Episode 145\tAverage Score: 1.15\tScore: 1.14\tSteps: 1001.001000\n",
      "Episode 146\tAverage Score: 1.15\tScore: 1.62\tSteps: 1001.00982\n",
      "Episode 147\tAverage Score: 1.16\tScore: 2.89\tSteps: 1001.00978\n",
      "Episode 148\tAverage Score: 1.18\tScore: 3.01\tSteps: 1001.001000\n",
      "Episode 149\tAverage Score: 1.19\tScore: 2.09\tSteps: 1001.00972\n",
      "Episode 150\tAverage Score: 1.19\tScore: 0.32\tSteps: 1001.001000\n",
      "Episode 151\tAverage Score: 1.20\tScore: 1.54\tSteps: 1001.00993\n",
      "Episode 152\tAverage Score: 1.21\tScore: 1.43\tSteps: 1001.00997\n",
      "Episode 153\tAverage Score: 1.20\tScore: 0.45\tSteps: 1001.00997\n",
      "Episode 154\tAverage Score: 1.21\tScore: 2.08\tSteps: 1001.00934\n",
      "Episode 155\tAverage Score: 1.21\tScore: 0.69\tSteps: 1001.00978\n",
      "Episode 156\tAverage Score: 1.21\tScore: 1.47\tSteps: 1001.00977\n",
      "Episode 157\tAverage Score: 1.23\tScore: 2.52\tSteps: 1001.00981\n",
      "Episode 158\tAverage Score: 1.25\tScore: 2.42\tSteps: 1001.00959\n",
      "Episode 159\tAverage Score: 1.26\tScore: 3.40\tSteps: 1001.00983\n",
      "Episode 160\tAverage Score: 1.27\tScore: 1.70\tSteps: 1001.00973\n",
      "Episode 161\tAverage Score: 1.30\tScore: 3.12\tSteps: 1001.00948\n",
      "Episode 162\tAverage Score: 1.30\tScore: 1.72\tSteps: 1001.00993\n",
      "Episode 163\tAverage Score: 1.32\tScore: 2.97\tSteps: 1001.00983\n",
      "Episode 164\tAverage Score: 1.32\tScore: 0.85\tSteps: 1001.00969\n",
      "Episode 165\tAverage Score: 1.33\tScore: 1.22\tSteps: 1001.00988\n",
      "Episode 166\tAverage Score: 1.33\tScore: 1.15\tSteps: 1001.001001\n",
      "Episode 167\tAverage Score: 1.33\tScore: 0.24\tSteps: 1001.00961\n",
      "Episode 168\tAverage Score: 1.35\tScore: 3.68\tSteps: 1001.00984\n",
      "Episode 169\tAverage Score: 1.34\tScore: 1.18\tSteps: 1001.00992\n",
      "Episode 170\tAverage Score: 1.32\tScore: 0.34\tSteps: 1001.00996\n",
      "Episode 171\tAverage Score: 1.34\tScore: 2.50\tSteps: 1001.00999\n",
      "Episode 172\tAverage Score: 1.35\tScore: 1.28\tSteps: 1001.00998\n",
      "Episode 173\tAverage Score: 1.35\tScore: 1.55\tSteps: 1001.00980\n",
      "Episode 174\tAverage Score: 1.34\tScore: 0.29\tSteps: 1001.00995\n",
      "Episode 175\tAverage Score: 1.35\tScore: 1.69\tSteps: 1001.00964\n",
      "Episode 176\tAverage Score: 1.35\tScore: 1.47\tSteps: 1001.00988\n",
      "Episode 177\tAverage Score: 1.35\tScore: 0.59\tSteps: 1001.00988\n",
      "Episode 178\tAverage Score: 1.35\tScore: 0.40\tSteps: 1001.00994\n",
      "Episode 179\tAverage Score: 1.33\tScore: 0.51\tSteps: 1001.001000\n",
      "Episode 180\tAverage Score: 1.34\tScore: 2.22\tSteps: 1001.00983\n",
      "Episode 181\tAverage Score: 1.34\tScore: 0.72\tSteps: 1001.00998\n",
      "Episode 182\tAverage Score: 1.35\tScore: 1.72\tSteps: 1001.001000\n",
      "Episode 183\tAverage Score: 1.34\tScore: 0.76\tSteps: 1001.001001\n",
      "Episode 184\tAverage Score: 1.34\tScore: 1.42\tSteps: 1001.00988\n",
      "Episode 185\tAverage Score: 1.35\tScore: 1.56\tSteps: 1001.00998\n",
      "Episode 186\tAverage Score: 1.36\tScore: 1.61\tSteps: 1001.00982\n",
      "Episode 187\tAverage Score: 1.36\tScore: 1.03\tSteps: 1001.00986\n",
      "Episode 188\tAverage Score: 1.34\tScore: 0.83\tSteps: 1001.00985\n",
      "Episode 189\tAverage Score: 1.37\tScore: 3.00\tSteps: 1001.00982\n",
      "Episode 190\tAverage Score: 1.39\tScore: 2.46\tSteps: 1001.00988\n",
      "Episode 191\tAverage Score: 1.41\tScore: 1.64\tSteps: 1001.00996\n",
      "Episode 192\tAverage Score: 1.40\tScore: 0.40\tSteps: 1001.00986\n",
      "Episode 193\tAverage Score: 1.43\tScore: 3.25\tSteps: 1001.00994\n",
      "Episode 194\tAverage Score: 1.44\tScore: 2.25\tSteps: 1001.00997\n",
      "Episode 195\tAverage Score: 1.45\tScore: 2.80\tSteps: 1001.00999\n",
      "Episode 196\tAverage Score: 1.47\tScore: 1.91\tSteps: 1001.00981\n",
      "Episode 197\tAverage Score: 1.48\tScore: 1.55\tSteps: 1001.001000\n",
      "Episode 198\tAverage Score: 1.49\tScore: 1.06\tSteps: 1001.00990\n",
      "Episode 199\tAverage Score: 1.49\tScore: 1.19\tSteps: 1001.00971\n",
      "Episode 200\tAverage Score: 1.50\tScore: 2.05\tSteps: 1001.00\n",
      "977\n",
      "Episode 201\tAverage Score: 1.51\tScore: 2.05\tSteps: 1001.001001\n",
      "Episode 202\tAverage Score: 1.54\tScore: 3.83\tSteps: 1001.00997\n",
      "Episode 203\tAverage Score: 1.53\tScore: 0.67\tSteps: 1001.001001\n",
      "Episode 204\tAverage Score: 1.54\tScore: 2.14\tSteps: 1001.00997\n",
      "Episode 205\tAverage Score: 1.56\tScore: 2.26\tSteps: 1001.00999\n",
      "Episode 206\tAverage Score: 1.59\tScore: 4.31\tSteps: 1001.00967\n",
      "Episode 207\tAverage Score: 1.60\tScore: 2.68\tSteps: 1001.00997\n",
      "Episode 208\tAverage Score: 1.60\tScore: 0.86\tSteps: 1001.00995\n",
      "Episode 209\tAverage Score: 1.61\tScore: 2.46\tSteps: 1001.00997\n",
      "Episode 210\tAverage Score: 1.63\tScore: 2.97\tSteps: 1001.00996\n",
      "Episode 211\tAverage Score: 1.67\tScore: 4.61\tSteps: 1001.00996\n",
      "Episode 212\tAverage Score: 1.66\tScore: 1.93\tSteps: 1001.001001\n",
      "Episode 213\tAverage Score: 1.68\tScore: 2.63\tSteps: 1001.00980\n",
      "Episode 214\tAverage Score: 1.69\tScore: 2.24\tSteps: 1001.00987\n",
      "Episode 215\tAverage Score: 1.71\tScore: 2.69\tSteps: 1001.00990\n",
      "Episode 216\tAverage Score: 1.71\tScore: 0.70\tSteps: 1001.001001\n",
      "Episode 217\tAverage Score: 1.70\tScore: 1.44\tSteps: 1001.001001\n",
      "Episode 218\tAverage Score: 1.70\tScore: 1.30\tSteps: 1001.001001\n",
      "Episode 219\tAverage Score: 1.71\tScore: 1.04\tSteps: 1001.00"
     ]
    }
   ],
   "source": [
    "import runner\n",
    "import ddpg_agent\n",
    "\n",
    "# %load_ext autoreload\n",
    "# %autoreload 2b\n",
    "\n",
    "agent = ddpg_agent.Agent(state_size=state_size, action_size=action_size, random_seed=1)\n",
    "scores = runner.run(env, agent, n_episodes=1000, brain_name=brain_name, state_file_name='checkpoint.pth')"
   ]
  },
  {
   "cell_type": "code",
   "execution_count": 14,
   "metadata": {},
   "outputs": [
    {
     "data": {
      "text/plain": [
       "True"
      ]
     },
     "execution_count": 14,
     "metadata": {},
     "output_type": "execute_result"
    }
   ],
   "source": [
    "a=np.array([1,2,-2,3])\n",
    "np.any(a < 0)"
   ]
  },
  {
   "cell_type": "markdown",
   "metadata": {},
   "source": [
    "When finished, you can close the environment."
   ]
  },
  {
   "cell_type": "code",
   "execution_count": null,
   "metadata": {},
   "outputs": [],
   "source": [
    "env.close()"
   ]
  },
  {
   "cell_type": "markdown",
   "metadata": {},
   "source": [
    "### 4. It's Your Turn!\n",
    "\n",
    "Now it's your turn to train your own agent to solve the environment!  When training the environment, set `train_mode=True`, so that the line for resetting the environment looks like the following:\n",
    "```python\n",
    "env_info = env.reset(train_mode=True)[brain_name]\n",
    "```"
   ]
  }
 ],
 "metadata": {
  "kernelspec": {
   "display_name": "drlnd",
   "language": "python",
   "name": "drlnd"
  },
  "language_info": {
   "codemirror_mode": {
    "name": "ipython",
    "version": 3
   },
   "file_extension": ".py",
   "mimetype": "text/x-python",
   "name": "python",
   "nbconvert_exporter": "python",
   "pygments_lexer": "ipython3",
   "version": "3.6.13"
  }
 },
 "nbformat": 4,
 "nbformat_minor": 4
}
